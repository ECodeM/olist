{
 "cells": [
  {
   "cell_type": "markdown",
   "id": "650e941b",
   "metadata": {},
   "source": [
    "- Should Olist remove only consistently underperforming sellers, after it has a honeymoon period of few months"
   ]
  },
  {
   "cell_type": "code",
   "execution_count": 74,
   "id": "223dc422",
   "metadata": {},
   "outputs": [],
   "source": [
    "import pandas as pd\n",
    "import numpy as np\n",
    "import matplotlib.pyplot as plt\n",
    "import seaborn as sns\n",
    "\n",
    "from olist.seller import Seller\n",
    "from olist.product import Product"
   ]
  },
  {
   "cell_type": "code",
   "execution_count": 2,
   "id": "2c57740d",
   "metadata": {},
   "outputs": [],
   "source": [
    "seller = Seller()\n",
    "\n",
    "sellers = seller.get_training_data()"
   ]
  },
  {
   "cell_type": "code",
   "execution_count": 3,
   "id": "c74c74af",
   "metadata": {},
   "outputs": [
    {
     "data": {
      "text/html": [
       "<div>\n",
       "<style scoped>\n",
       "    .dataframe tbody tr th:only-of-type {\n",
       "        vertical-align: middle;\n",
       "    }\n",
       "\n",
       "    .dataframe tbody tr th {\n",
       "        vertical-align: top;\n",
       "    }\n",
       "\n",
       "    .dataframe thead th {\n",
       "        text-align: right;\n",
       "    }\n",
       "</style>\n",
       "<table border=\"1\" class=\"dataframe\">\n",
       "  <thead>\n",
       "    <tr style=\"text-align: right;\">\n",
       "      <th></th>\n",
       "      <th>seller_id</th>\n",
       "      <th>seller_city</th>\n",
       "      <th>seller_state</th>\n",
       "      <th>delay_to_carrier</th>\n",
       "      <th>wait_time</th>\n",
       "      <th>date_first_sale</th>\n",
       "      <th>date_last_sale</th>\n",
       "      <th>months_on_olist</th>\n",
       "      <th>share_of_one_stars</th>\n",
       "      <th>share_of_five_stars</th>\n",
       "      <th>review_score</th>\n",
       "      <th>cost_of_reviews</th>\n",
       "      <th>n_orders</th>\n",
       "      <th>quantity</th>\n",
       "      <th>quantity_per_order</th>\n",
       "      <th>sales</th>\n",
       "      <th>revenues</th>\n",
       "      <th>profits</th>\n",
       "    </tr>\n",
       "  </thead>\n",
       "  <tbody>\n",
       "    <tr>\n",
       "      <th>0</th>\n",
       "      <td>3442f8959a84dea7ee197c632cb2df15</td>\n",
       "      <td>campinas</td>\n",
       "      <td>SP</td>\n",
       "      <td>0.000000</td>\n",
       "      <td>13.018588</td>\n",
       "      <td>2017-05-05 16:25:11</td>\n",
       "      <td>2017-08-30 12:50:19</td>\n",
       "      <td>4.0</td>\n",
       "      <td>0.333333</td>\n",
       "      <td>0.333333</td>\n",
       "      <td>3.00</td>\n",
       "      <td>140</td>\n",
       "      <td>3</td>\n",
       "      <td>3</td>\n",
       "      <td>1.000</td>\n",
       "      <td>218.70</td>\n",
       "      <td>341.870</td>\n",
       "      <td>201.870</td>\n",
       "    </tr>\n",
       "    <tr>\n",
       "      <th>1</th>\n",
       "      <td>d1b65fc7debc3361ea86b5f14c68d2e2</td>\n",
       "      <td>mogi guacu</td>\n",
       "      <td>SP</td>\n",
       "      <td>0.000000</td>\n",
       "      <td>9.065716</td>\n",
       "      <td>2017-03-29 02:10:34</td>\n",
       "      <td>2018-06-06 20:15:21</td>\n",
       "      <td>14.0</td>\n",
       "      <td>0.050000</td>\n",
       "      <td>0.725000</td>\n",
       "      <td>4.55</td>\n",
       "      <td>240</td>\n",
       "      <td>40</td>\n",
       "      <td>41</td>\n",
       "      <td>1.025</td>\n",
       "      <td>11703.07</td>\n",
       "      <td>2290.307</td>\n",
       "      <td>2050.307</td>\n",
       "    </tr>\n",
       "    <tr>\n",
       "      <th>2</th>\n",
       "      <td>ce3ad9de960102d0677a81f5d0bb7b2d</td>\n",
       "      <td>rio de janeiro</td>\n",
       "      <td>RJ</td>\n",
       "      <td>0.000000</td>\n",
       "      <td>4.042292</td>\n",
       "      <td>2018-07-30 12:44:49</td>\n",
       "      <td>2018-07-30 12:44:49</td>\n",
       "      <td>0.0</td>\n",
       "      <td>0.000000</td>\n",
       "      <td>1.000000</td>\n",
       "      <td>5.00</td>\n",
       "      <td>0</td>\n",
       "      <td>1</td>\n",
       "      <td>1</td>\n",
       "      <td>1.000</td>\n",
       "      <td>158.00</td>\n",
       "      <td>15.800</td>\n",
       "      <td>15.800</td>\n",
       "    </tr>\n",
       "    <tr>\n",
       "      <th>3</th>\n",
       "      <td>c0f3eea2e14555b6faeea3dd58c1b1c3</td>\n",
       "      <td>sao paulo</td>\n",
       "      <td>SP</td>\n",
       "      <td>0.000000</td>\n",
       "      <td>5.667187</td>\n",
       "      <td>2018-08-03 00:44:08</td>\n",
       "      <td>2018-08-03 00:44:08</td>\n",
       "      <td>0.0</td>\n",
       "      <td>0.000000</td>\n",
       "      <td>1.000000</td>\n",
       "      <td>5.00</td>\n",
       "      <td>0</td>\n",
       "      <td>1</td>\n",
       "      <td>1</td>\n",
       "      <td>1.000</td>\n",
       "      <td>79.99</td>\n",
       "      <td>7.999</td>\n",
       "      <td>7.999</td>\n",
       "    </tr>\n",
       "    <tr>\n",
       "      <th>4</th>\n",
       "      <td>51a04a8a6bdcb23deccc82b0b80742cf</td>\n",
       "      <td>braganca paulista</td>\n",
       "      <td>SP</td>\n",
       "      <td>3.353727</td>\n",
       "      <td>35.314861</td>\n",
       "      <td>2017-11-14 12:15:25</td>\n",
       "      <td>2017-11-14 12:15:25</td>\n",
       "      <td>0.0</td>\n",
       "      <td>1.000000</td>\n",
       "      <td>0.000000</td>\n",
       "      <td>1.00</td>\n",
       "      <td>100</td>\n",
       "      <td>1</td>\n",
       "      <td>1</td>\n",
       "      <td>1.000</td>\n",
       "      <td>167.99</td>\n",
       "      <td>16.799</td>\n",
       "      <td>-83.201</td>\n",
       "    </tr>\n",
       "  </tbody>\n",
       "</table>\n",
       "</div>"
      ],
      "text/plain": [
       "                          seller_id        seller_city seller_state  \\\n",
       "0  3442f8959a84dea7ee197c632cb2df15           campinas           SP   \n",
       "1  d1b65fc7debc3361ea86b5f14c68d2e2         mogi guacu           SP   \n",
       "2  ce3ad9de960102d0677a81f5d0bb7b2d     rio de janeiro           RJ   \n",
       "3  c0f3eea2e14555b6faeea3dd58c1b1c3          sao paulo           SP   \n",
       "4  51a04a8a6bdcb23deccc82b0b80742cf  braganca paulista           SP   \n",
       "\n",
       "   delay_to_carrier  wait_time     date_first_sale      date_last_sale  \\\n",
       "0          0.000000  13.018588 2017-05-05 16:25:11 2017-08-30 12:50:19   \n",
       "1          0.000000   9.065716 2017-03-29 02:10:34 2018-06-06 20:15:21   \n",
       "2          0.000000   4.042292 2018-07-30 12:44:49 2018-07-30 12:44:49   \n",
       "3          0.000000   5.667187 2018-08-03 00:44:08 2018-08-03 00:44:08   \n",
       "4          3.353727  35.314861 2017-11-14 12:15:25 2017-11-14 12:15:25   \n",
       "\n",
       "   months_on_olist  share_of_one_stars  share_of_five_stars  review_score  \\\n",
       "0              4.0            0.333333             0.333333          3.00   \n",
       "1             14.0            0.050000             0.725000          4.55   \n",
       "2              0.0            0.000000             1.000000          5.00   \n",
       "3              0.0            0.000000             1.000000          5.00   \n",
       "4              0.0            1.000000             0.000000          1.00   \n",
       "\n",
       "   cost_of_reviews  n_orders  quantity  quantity_per_order     sales  \\\n",
       "0              140         3         3               1.000    218.70   \n",
       "1              240        40        41               1.025  11703.07   \n",
       "2                0         1         1               1.000    158.00   \n",
       "3                0         1         1               1.000     79.99   \n",
       "4              100         1         1               1.000    167.99   \n",
       "\n",
       "   revenues   profits  \n",
       "0   341.870   201.870  \n",
       "1  2290.307  2050.307  \n",
       "2    15.800    15.800  \n",
       "3     7.999     7.999  \n",
       "4    16.799   -83.201  "
      ]
     },
     "execution_count": 3,
     "metadata": {},
     "output_type": "execute_result"
    }
   ],
   "source": [
    "sellers.head()"
   ]
  },
  {
   "cell_type": "markdown",
   "id": "5bea7c59",
   "metadata": {},
   "source": [
    "# Revenue"
   ]
  },
  {
   "cell_type": "code",
   "execution_count": 21,
   "id": "96419539",
   "metadata": {},
   "outputs": [
    {
     "name": "stdout",
     "output_type": "stream",
     "text": [
      "\n",
      "Revenues: 2785818.44 BRL\n",
      "- Sales: 1355578.44 BRL\n",
      "- Subscriptions: 1430240.00 BRL\n",
      "\n"
     ]
    }
   ],
   "source": [
    "# Revenues\n",
    "revenues_sales = sellers.sales.sum() * 0.1\n",
    "revenues_subscription = sellers.months_on_olist.sum() * 80\n",
    "revenues_total = sellers.revenues.sum()\n",
    "\n",
    "print(\n",
    "    f'''\n",
    "Revenues: {revenues_total:.2f} BRL\n",
    "- Sales: {revenues_sales:.2f} BRL\n",
    "- Subscriptions: {revenues_subscription:.2f} BRL\n",
    "''')"
   ]
  },
  {
   "cell_type": "markdown",
   "id": "fdaf8b41",
   "metadata": {},
   "source": [
    "# Costs"
   ]
  },
  {
   "cell_type": "code",
   "execution_count": 22,
   "id": "8792d09a",
   "metadata": {},
   "outputs": [
    {
     "name": "stdout",
     "output_type": "stream",
     "text": [
      "\n",
      "Costs: 2118210.00 BRL\n",
      "- Reviews: 1618210.00 BRL\n",
      "- IT: 500000.00 BRL\n",
      "\n"
     ]
    }
   ],
   "source": [
    "costs_reviews = sellers.cost_of_reviews.sum()\n",
    "costs_it = 500_000\n",
    "costs_total = costs_reviews + costs_it\n",
    "\n",
    "print(\n",
    "    f'''\n",
    "Costs: {costs_total:.2f} BRL\n",
    "- Reviews: {costs_reviews:.2f} BRL\n",
    "- IT: {costs_it:.2f} BRL\n",
    "''')"
   ]
  },
  {
   "cell_type": "markdown",
   "id": "72295a2b",
   "metadata": {},
   "source": [
    "# Profit"
   ]
  },
  {
   "cell_type": "code",
   "execution_count": 26,
   "id": "abbe4726",
   "metadata": {},
   "outputs": [
    {
     "data": {
      "text/plain": [
       "1167608.44"
      ]
     },
     "execution_count": 26,
     "metadata": {},
     "output_type": "execute_result"
    }
   ],
   "source": [
    "# Gross Profit, before IT costs\n",
    "profits_gross = round(sellers.profits.sum(), 2)\n",
    "profits_gross"
   ]
  },
  {
   "cell_type": "code",
   "execution_count": 25,
   "id": "9cf994fa",
   "metadata": {},
   "outputs": [
    {
     "data": {
      "text/plain": [
       "667608.44"
      ]
     },
     "execution_count": 25,
     "metadata": {},
     "output_type": "execute_result"
    }
   ],
   "source": [
    "# Gross Profit, after IT costs\n",
    "profits_net = round(profits_gross - costs_it, 2)\n",
    "profits_net"
   ]
  },
  {
   "cell_type": "code",
   "execution_count": 31,
   "id": "6a739bf1",
   "metadata": {},
   "outputs": [
    {
     "name": "stdout",
     "output_type": "stream",
     "text": [
      "The average amount of time of sellers on Olist is 6.0 months\n"
     ]
    }
   ],
   "source": [
    "avg_months = round(sellers['months_on_olist'].mean(),1)\n",
    "\n",
    "print(f\"The average amount of time of sellers on Olist is {avg_months} months\")"
   ]
  },
  {
   "cell_type": "code",
   "execution_count": 35,
   "id": "0e75a6c5",
   "metadata": {},
   "outputs": [
    {
     "data": {
      "text/plain": [
       "4.0"
      ]
     },
     "execution_count": 35,
     "metadata": {},
     "output_type": "execute_result"
    }
   ],
   "source": [
    "sellers['months_on_olist'].median()"
   ]
  },
  {
   "cell_type": "markdown",
   "id": "de6f005e",
   "metadata": {},
   "source": [
    "### Since the average amount of time of sellers on the Olist platform is 6 months and the median amount of time is 4 months, we will consider that any seller who has been on the platform for 3 months or last to be on the honeymoon phase and therefore, we will not take into consideration for this especific analysis"
   ]
  },
  {
   "cell_type": "code",
   "execution_count": 70,
   "id": "369b8999",
   "metadata": {},
   "outputs": [
    {
     "data": {
      "text/html": [
       "<div>\n",
       "<style scoped>\n",
       "    .dataframe tbody tr th:only-of-type {\n",
       "        vertical-align: middle;\n",
       "    }\n",
       "\n",
       "    .dataframe tbody tr th {\n",
       "        vertical-align: top;\n",
       "    }\n",
       "\n",
       "    .dataframe thead th {\n",
       "        text-align: right;\n",
       "    }\n",
       "</style>\n",
       "<table border=\"1\" class=\"dataframe\">\n",
       "  <thead>\n",
       "    <tr style=\"text-align: right;\">\n",
       "      <th></th>\n",
       "      <th>seller_id</th>\n",
       "      <th>seller_city</th>\n",
       "      <th>seller_state</th>\n",
       "      <th>delay_to_carrier</th>\n",
       "      <th>wait_time</th>\n",
       "      <th>date_first_sale</th>\n",
       "      <th>date_last_sale</th>\n",
       "      <th>months_on_olist</th>\n",
       "      <th>share_of_one_stars</th>\n",
       "      <th>share_of_five_stars</th>\n",
       "      <th>review_score</th>\n",
       "      <th>cost_of_reviews</th>\n",
       "      <th>n_orders</th>\n",
       "      <th>quantity</th>\n",
       "      <th>quantity_per_order</th>\n",
       "      <th>sales</th>\n",
       "      <th>revenues</th>\n",
       "      <th>profits</th>\n",
       "    </tr>\n",
       "  </thead>\n",
       "  <tbody>\n",
       "    <tr>\n",
       "      <th>769</th>\n",
       "      <td>6560211a19b47992c3666cc44a7e94c0</td>\n",
       "      <td>sao paulo</td>\n",
       "      <td>SP</td>\n",
       "      <td>0.0</td>\n",
       "      <td>9.539486</td>\n",
       "      <td>2017-02-17 07:45:11</td>\n",
       "      <td>2018-08-29 09:25:12</td>\n",
       "      <td>18.0</td>\n",
       "      <td>0.124729</td>\n",
       "      <td>0.514100</td>\n",
       "      <td>3.937093</td>\n",
       "      <td>35290</td>\n",
       "      <td>1854</td>\n",
       "      <td>2033</td>\n",
       "      <td>1.096548</td>\n",
       "      <td>123304.83</td>\n",
       "      <td>13770.483</td>\n",
       "      <td>-21519.517</td>\n",
       "    </tr>\n",
       "    <tr>\n",
       "      <th>2358</th>\n",
       "      <td>4a3ca9315b744ce9f8e9374361493884</td>\n",
       "      <td>ibitinga</td>\n",
       "      <td>SP</td>\n",
       "      <td>0.0</td>\n",
       "      <td>14.416471</td>\n",
       "      <td>2017-01-08 09:45:12</td>\n",
       "      <td>2018-08-27 11:04:18</td>\n",
       "      <td>20.0</td>\n",
       "      <td>0.143809</td>\n",
       "      <td>0.482510</td>\n",
       "      <td>3.827873</td>\n",
       "      <td>39400</td>\n",
       "      <td>1806</td>\n",
       "      <td>1987</td>\n",
       "      <td>1.100221</td>\n",
       "      <td>200472.92</td>\n",
       "      <td>21647.292</td>\n",
       "      <td>-17752.708</td>\n",
       "    </tr>\n",
       "    <tr>\n",
       "      <th>1357</th>\n",
       "      <td>cc419e0650a3c5ba77189a1882b7556a</td>\n",
       "      <td>santo andre</td>\n",
       "      <td>SP</td>\n",
       "      <td>0.0</td>\n",
       "      <td>11.539753</td>\n",
       "      <td>2017-02-02 17:10:21</td>\n",
       "      <td>2018-08-28 03:45:15</td>\n",
       "      <td>19.0</td>\n",
       "      <td>0.116092</td>\n",
       "      <td>0.584483</td>\n",
       "      <td>4.077586</td>\n",
       "      <td>29530</td>\n",
       "      <td>1706</td>\n",
       "      <td>1775</td>\n",
       "      <td>1.040445</td>\n",
       "      <td>104288.42</td>\n",
       "      <td>11948.842</td>\n",
       "      <td>-17581.158</td>\n",
       "    </tr>\n",
       "    <tr>\n",
       "      <th>945</th>\n",
       "      <td>ea8482cd71df3c1969d7b9473ff13abc</td>\n",
       "      <td>sao paulo</td>\n",
       "      <td>SP</td>\n",
       "      <td>0.0</td>\n",
       "      <td>13.315562</td>\n",
       "      <td>2017-08-16 15:15:26</td>\n",
       "      <td>2018-08-25 02:45:21</td>\n",
       "      <td>12.0</td>\n",
       "      <td>0.113935</td>\n",
       "      <td>0.527607</td>\n",
       "      <td>3.997371</td>\n",
       "      <td>20220</td>\n",
       "      <td>1146</td>\n",
       "      <td>1203</td>\n",
       "      <td>1.049738</td>\n",
       "      <td>37177.52</td>\n",
       "      <td>4677.752</td>\n",
       "      <td>-15542.248</td>\n",
       "    </tr>\n",
       "    <tr>\n",
       "      <th>315</th>\n",
       "      <td>8b321bb669392f5163d04c59e235e066</td>\n",
       "      <td>sao paulo</td>\n",
       "      <td>SP</td>\n",
       "      <td>0.0</td>\n",
       "      <td>12.616899</td>\n",
       "      <td>2017-10-27 16:31:30</td>\n",
       "      <td>2018-08-21 17:08:38</td>\n",
       "      <td>10.0</td>\n",
       "      <td>0.118211</td>\n",
       "      <td>0.568690</td>\n",
       "      <td>4.074547</td>\n",
       "      <td>15440</td>\n",
       "      <td>943</td>\n",
       "      <td>1018</td>\n",
       "      <td>1.079533</td>\n",
       "      <td>17535.69</td>\n",
       "      <td>2553.569</td>\n",
       "      <td>-12886.431</td>\n",
       "    </tr>\n",
       "    <tr>\n",
       "      <th>...</th>\n",
       "      <td>...</td>\n",
       "      <td>...</td>\n",
       "      <td>...</td>\n",
       "      <td>...</td>\n",
       "      <td>...</td>\n",
       "      <td>...</td>\n",
       "      <td>...</td>\n",
       "      <td>...</td>\n",
       "      <td>...</td>\n",
       "      <td>...</td>\n",
       "      <td>...</td>\n",
       "      <td>...</td>\n",
       "      <td>...</td>\n",
       "      <td>...</td>\n",
       "      <td>...</td>\n",
       "      <td>...</td>\n",
       "      <td>...</td>\n",
       "      <td>...</td>\n",
       "    </tr>\n",
       "    <tr>\n",
       "      <th>2413</th>\n",
       "      <td>8e6cc767478edae941d9bd9eb778d77a</td>\n",
       "      <td>araguari</td>\n",
       "      <td>MG</td>\n",
       "      <td>0.0</td>\n",
       "      <td>16.496238</td>\n",
       "      <td>2017-01-29 19:31:49</td>\n",
       "      <td>2018-06-19 22:55:57</td>\n",
       "      <td>17.0</td>\n",
       "      <td>0.122642</td>\n",
       "      <td>0.547170</td>\n",
       "      <td>3.943396</td>\n",
       "      <td>2090</td>\n",
       "      <td>106</td>\n",
       "      <td>114</td>\n",
       "      <td>1.075472</td>\n",
       "      <td>6830.58</td>\n",
       "      <td>2043.058</td>\n",
       "      <td>-46.942</td>\n",
       "    </tr>\n",
       "    <tr>\n",
       "      <th>1344</th>\n",
       "      <td>3d8fa2f5b647373c8620330c4e077a9f</td>\n",
       "      <td>sao paulo</td>\n",
       "      <td>SP</td>\n",
       "      <td>0.0</td>\n",
       "      <td>9.322169</td>\n",
       "      <td>2018-04-30 14:32:34</td>\n",
       "      <td>2018-08-15 20:29:49</td>\n",
       "      <td>4.0</td>\n",
       "      <td>0.116279</td>\n",
       "      <td>0.604651</td>\n",
       "      <td>4.093023</td>\n",
       "      <td>720</td>\n",
       "      <td>43</td>\n",
       "      <td>48</td>\n",
       "      <td>1.116279</td>\n",
       "      <td>3571.73</td>\n",
       "      <td>677.173</td>\n",
       "      <td>-42.827</td>\n",
       "    </tr>\n",
       "    <tr>\n",
       "      <th>997</th>\n",
       "      <td>2a84855fd20af891be03bc5924d2b453</td>\n",
       "      <td>belo horizonte</td>\n",
       "      <td>MG</td>\n",
       "      <td>0.0</td>\n",
       "      <td>8.543380</td>\n",
       "      <td>2017-12-29 13:26:53</td>\n",
       "      <td>2018-08-29 14:30:23</td>\n",
       "      <td>8.0</td>\n",
       "      <td>0.092025</td>\n",
       "      <td>0.650307</td>\n",
       "      <td>4.245399</td>\n",
       "      <td>2250</td>\n",
       "      <td>164</td>\n",
       "      <td>168</td>\n",
       "      <td>1.024390</td>\n",
       "      <td>15819.10</td>\n",
       "      <td>2221.910</td>\n",
       "      <td>-28.090</td>\n",
       "    </tr>\n",
       "    <tr>\n",
       "      <th>1761</th>\n",
       "      <td>e64d65bc8dbec2accda90c58de5d1246</td>\n",
       "      <td>rio claro</td>\n",
       "      <td>SP</td>\n",
       "      <td>0.0</td>\n",
       "      <td>13.493086</td>\n",
       "      <td>2017-11-20 14:06:34</td>\n",
       "      <td>2018-03-15 09:50:48</td>\n",
       "      <td>4.0</td>\n",
       "      <td>0.416667</td>\n",
       "      <td>0.333333</td>\n",
       "      <td>3.083333</td>\n",
       "      <td>500</td>\n",
       "      <td>12</td>\n",
       "      <td>12</td>\n",
       "      <td>1.000000</td>\n",
       "      <td>1678.80</td>\n",
       "      <td>487.880</td>\n",
       "      <td>-12.120</td>\n",
       "    </tr>\n",
       "    <tr>\n",
       "      <th>833</th>\n",
       "      <td>dd2bdf855a9172734fbc3744021ae9b9</td>\n",
       "      <td>belo horizonte</td>\n",
       "      <td>MG</td>\n",
       "      <td>0.0</td>\n",
       "      <td>15.247501</td>\n",
       "      <td>2016-10-06 15:47:17</td>\n",
       "      <td>2018-01-04 05:10:35</td>\n",
       "      <td>15.0</td>\n",
       "      <td>0.133333</td>\n",
       "      <td>0.495238</td>\n",
       "      <td>3.847619</td>\n",
       "      <td>2290</td>\n",
       "      <td>108</td>\n",
       "      <td>113</td>\n",
       "      <td>1.046296</td>\n",
       "      <td>10816.70</td>\n",
       "      <td>2281.670</td>\n",
       "      <td>-8.330</td>\n",
       "    </tr>\n",
       "  </tbody>\n",
       "</table>\n",
       "<p>149 rows × 18 columns</p>\n",
       "</div>"
      ],
      "text/plain": [
       "                             seller_id     seller_city seller_state  \\\n",
       "769   6560211a19b47992c3666cc44a7e94c0       sao paulo           SP   \n",
       "2358  4a3ca9315b744ce9f8e9374361493884        ibitinga           SP   \n",
       "1357  cc419e0650a3c5ba77189a1882b7556a     santo andre           SP   \n",
       "945   ea8482cd71df3c1969d7b9473ff13abc       sao paulo           SP   \n",
       "315   8b321bb669392f5163d04c59e235e066       sao paulo           SP   \n",
       "...                                ...             ...          ...   \n",
       "2413  8e6cc767478edae941d9bd9eb778d77a        araguari           MG   \n",
       "1344  3d8fa2f5b647373c8620330c4e077a9f       sao paulo           SP   \n",
       "997   2a84855fd20af891be03bc5924d2b453  belo horizonte           MG   \n",
       "1761  e64d65bc8dbec2accda90c58de5d1246       rio claro           SP   \n",
       "833   dd2bdf855a9172734fbc3744021ae9b9  belo horizonte           MG   \n",
       "\n",
       "      delay_to_carrier  wait_time     date_first_sale      date_last_sale  \\\n",
       "769                0.0   9.539486 2017-02-17 07:45:11 2018-08-29 09:25:12   \n",
       "2358               0.0  14.416471 2017-01-08 09:45:12 2018-08-27 11:04:18   \n",
       "1357               0.0  11.539753 2017-02-02 17:10:21 2018-08-28 03:45:15   \n",
       "945                0.0  13.315562 2017-08-16 15:15:26 2018-08-25 02:45:21   \n",
       "315                0.0  12.616899 2017-10-27 16:31:30 2018-08-21 17:08:38   \n",
       "...                ...        ...                 ...                 ...   \n",
       "2413               0.0  16.496238 2017-01-29 19:31:49 2018-06-19 22:55:57   \n",
       "1344               0.0   9.322169 2018-04-30 14:32:34 2018-08-15 20:29:49   \n",
       "997                0.0   8.543380 2017-12-29 13:26:53 2018-08-29 14:30:23   \n",
       "1761               0.0  13.493086 2017-11-20 14:06:34 2018-03-15 09:50:48   \n",
       "833                0.0  15.247501 2016-10-06 15:47:17 2018-01-04 05:10:35   \n",
       "\n",
       "      months_on_olist  share_of_one_stars  share_of_five_stars  review_score  \\\n",
       "769              18.0            0.124729             0.514100      3.937093   \n",
       "2358             20.0            0.143809             0.482510      3.827873   \n",
       "1357             19.0            0.116092             0.584483      4.077586   \n",
       "945              12.0            0.113935             0.527607      3.997371   \n",
       "315              10.0            0.118211             0.568690      4.074547   \n",
       "...               ...                 ...                  ...           ...   \n",
       "2413             17.0            0.122642             0.547170      3.943396   \n",
       "1344              4.0            0.116279             0.604651      4.093023   \n",
       "997               8.0            0.092025             0.650307      4.245399   \n",
       "1761              4.0            0.416667             0.333333      3.083333   \n",
       "833              15.0            0.133333             0.495238      3.847619   \n",
       "\n",
       "      cost_of_reviews  n_orders  quantity  quantity_per_order      sales  \\\n",
       "769             35290      1854      2033            1.096548  123304.83   \n",
       "2358            39400      1806      1987            1.100221  200472.92   \n",
       "1357            29530      1706      1775            1.040445  104288.42   \n",
       "945             20220      1146      1203            1.049738   37177.52   \n",
       "315             15440       943      1018            1.079533   17535.69   \n",
       "...               ...       ...       ...                 ...        ...   \n",
       "2413             2090       106       114            1.075472    6830.58   \n",
       "1344              720        43        48            1.116279    3571.73   \n",
       "997              2250       164       168            1.024390   15819.10   \n",
       "1761              500        12        12            1.000000    1678.80   \n",
       "833              2290       108       113            1.046296   10816.70   \n",
       "\n",
       "       revenues    profits  \n",
       "769   13770.483 -21519.517  \n",
       "2358  21647.292 -17752.708  \n",
       "1357  11948.842 -17581.158  \n",
       "945    4677.752 -15542.248  \n",
       "315    2553.569 -12886.431  \n",
       "...         ...        ...  \n",
       "2413   2043.058    -46.942  \n",
       "1344    677.173    -42.827  \n",
       "997    2221.910    -28.090  \n",
       "1761    487.880    -12.120  \n",
       "833    2281.670     -8.330  \n",
       "\n",
       "[149 rows x 18 columns]"
      ]
     },
     "execution_count": 70,
     "metadata": {},
     "output_type": "execute_result"
    }
   ],
   "source": [
    "filtered_sellers = sellers.loc[(sellers['months_on_olist'] > 3) & (sellers['profits'] < 0)].sort_values(by='profits')\n",
    "\n",
    "filtered_sellers"
   ]
  },
  {
   "cell_type": "code",
   "execution_count": 42,
   "id": "2e6ca26a",
   "metadata": {},
   "outputs": [],
   "source": [
    "cost_review_sum = round(filtered_sellers['cost_of_reviews'].sum(), 2)\n",
    "revenue_sum = round(filtered_sellers['revenues'].sum(), 2)\n",
    "profits_sum = round(filtered_sellers['profits'].sum(), 2)\n",
    "sales_sum = round(filtered_sellers['sales'].sum(), 2)"
   ]
  },
  {
   "cell_type": "code",
   "execution_count": 45,
   "id": "80599c3c",
   "metadata": {},
   "outputs": [
    {
     "name": "stdout",
     "output_type": "stream",
     "text": [
      "The cost of review that these 149 sellers have for Olist is 739550\n",
      "The revenue they generate is 453174.18\n",
      "The total profit, in this case, loss, that they generate is -286375.81\n",
      "The total in sales is  3074941.85\n"
     ]
    }
   ],
   "source": [
    "print(f\"The cost of review that these 149 sellers have for Olist is {cost_review_sum}\")\n",
    "print(f\"The revenue they generate is {revenue_sum}\")\n",
    "print(f\"The total profit, in this case, loss, that they generate is {profits_sum}\")\n",
    "print(f\"The total in sales is  {sales_sum}\")"
   ]
  },
  {
   "cell_type": "code",
   "execution_count": 48,
   "id": "a79680f1",
   "metadata": {},
   "outputs": [
    {
     "data": {
      "text/plain": [
       "1025925.81"
      ]
     },
     "execution_count": 48,
     "metadata": {},
     "output_type": "execute_result"
    }
   ],
   "source": [
    "total_loss = (profits_sum * -1) + cost_review_sum\n",
    "\n",
    "total_loss"
   ]
  },
  {
   "cell_type": "markdown",
   "id": "b66d6232",
   "metadata": {},
   "source": [
    "### Together, the 149 sellers with the worst performance, cause a loss of R$1,025,925.81 BRL for Olist\n"
   ]
  },
  {
   "cell_type": "code",
   "execution_count": 67,
   "id": "748fead5",
   "metadata": {},
   "outputs": [
    {
     "name": "stdout",
     "output_type": "stream",
     "text": [
      "The worst performing sellers, represent 5.0% of the total amount of Olist's seller's base\n"
     ]
    }
   ],
   "source": [
    "n_sellers = sellers.shape[0]\n",
    "\n",
    "n_bad_sellers = filtered_sellers.shape[0]\n",
    "\n",
    "sellers_percent = round(n_bad_sellers / n_sellers, 2) * 100\n",
    "\n",
    "print(f\"The worst performing sellers, represent {sellers_percent}% of the total amount of Olist's seller's base\")"
   ]
  },
  {
   "cell_type": "markdown",
   "id": "890cb80c",
   "metadata": {},
   "source": [
    "### IT Costs scaling parameteres $\\alpha$ and $\\beta$"
   ]
  },
  {
   "cell_type": "markdown",
   "id": "087188fa",
   "metadata": {},
   "source": [
    "We know that the total IT Costs scale with both the number of sellers (`n_sellers`) and the amount of items they sold (`n_items`)  \n",
    "\n",
    "$IT\\_costs = \\alpha * \\sqrt{n\\_sellers} + \\beta * \\sqrt{n\\_items}$  \n",
    "\n",
    "- $\\alpha = 3157.27$\n",
    "- $\\beta = 978.23$"
   ]
  },
  {
   "cell_type": "code",
   "execution_count": 68,
   "id": "d2a022cb",
   "metadata": {},
   "outputs": [],
   "source": [
    "alpha, beta = 3157.27, 978.23\n",
    "n_items = filtered_sellers.quantity.sum()\n"
   ]
  },
  {
   "cell_type": "code",
   "execution_count": 69,
   "id": "439987db",
   "metadata": {},
   "outputs": [],
   "source": [
    "def compute_costs_of_it(n_sellers, n_items):\n",
    "    return alpha * np.sqrt(n_sellers) + beta * np.sqrt(n_items)"
   ]
  },
  {
   "cell_type": "code",
   "execution_count": 71,
   "id": "f399d124",
   "metadata": {},
   "outputs": [],
   "source": [
    "new_n_sellers = n_bad_sellers - np.arange(1, n_bad_sellers, 1)\n",
    "new_n_items = n_items - np.cumsum(filtered_sellers.quantity[:-1])\n",
    "\n",
    "it_costs_per_seller_removed = compute_costs_of_it(new_n_sellers, new_n_items)\n",
    "review_costs_per_seller_removed = filtered_sellers.cost_of_reviews.sum() - np.cumsum(filtered_sellers.cost_of_reviews[:-1])"
   ]
  },
  {
   "cell_type": "code",
   "execution_count": 73,
   "id": "7dadf994",
   "metadata": {},
   "outputs": [],
   "source": [
    "STYLES = {'title': {'weight':'heavy', 'name':'Liberation Serif', 'size':16,},\n",
    "          'labels': {'weight': 'heavy', 'name': 'Liberation Serif', 'size': 14}}"
   ]
  },
  {
   "cell_type": "code",
   "execution_count": 76,
   "id": "61e0040c",
   "metadata": {},
   "outputs": [
    {
     "data": {
      "image/png": "[encoded data removed]",
      "text/plain": [
       "<Figure size 1200x600 with 1 Axes>"
      ]
     },
     "metadata": {},
     "output_type": "display_data"
    }
   ],
   "source": [
    "fig, ax = plt.subplots(figsize=(12, 6))\n",
    "\n",
    "x = np.arange(1, n_bad_sellers, 1)\n",
    "\n",
    "plt.suptitle(t=\"Estimated impact on Costs\",\n",
    "             **STYLES['title'])\n",
    "\n",
    "review_costs_line = sns.lineplot(x=x,\n",
    "                                 y=review_costs_per_seller_removed,\n",
    "                                 label='Review Costs',\n",
    "                                 ax=ax)\n",
    "\n",
    "it_costs_line = sns.lineplot(x=x,\n",
    "                             y=it_costs_per_seller_removed,\n",
    "                             label='IT Costs',\n",
    "                             ax=ax)\n",
    "\n",
    "ax.set_xlabel('Number of sellers removed',\n",
    "                  fontdict=STYLES['labels'])\n",
    "ax.set_ylabel('BRL',\n",
    "                  fontdict=STYLES['labels'])\n",
    "\n",
    "ax.tick_params(axis='y')\n",
    "\n",
    "ax.legend()\n",
    "\n",
    "fig.tight_layout()\n",
    "\n",
    "plt.show()"
   ]
  },
  {
   "cell_type": "markdown",
   "id": "3bc07807",
   "metadata": {},
   "source": [
    "### As shown on the graph, considering IT costs, the removal of 5% of Olist's worst performing sellers would barely have any significant IT costs reduction. On the other hand, it would decrease significantly the review costs.\n",
    "\n",
    "### Although a decrease in costs cannot be exacly interpreted as increase in profit, it will definately make a difference with the profit margins\n"
   ]
  }
 ],
 "metadata": {
  "kernelspec": {
   "display_name": "Python 3 (ipykernel)",
   "language": "python",
   "name": "python3"
  },
  "language_info": {
   "codemirror_mode": {
    "name": "ipython",
    "version": 3
   },
   "file_extension": ".py",
   "mimetype": "text/x-python",
   "name": "python",
   "nbconvert_exporter": "python",
   "pygments_lexer": "ipython3",
   "version": "3.10.6"
  },
  "toc": {
   "base_numbering": 1,
   "nav_menu": {},
   "number_sections": true,
   "sideBar": true,
   "skip_h1_title": false,
   "title_cell": "Table of Contents",
   "title_sidebar": "Contents",
   "toc_cell": false,
   "toc_position": {},
   "toc_section_display": true,
   "toc_window_display": false
  }
 },
 "nbformat": 4,
 "nbformat_minor": 5
}
